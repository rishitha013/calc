{
 "cells": [
  {
   "cell_type": "code",
   "execution_count": 1,
   "id": "9e94f2f4-a03f-499d-950b-b738efaf6e8d",
   "metadata": {},
   "outputs": [],
   "source": [
    "import tkinter"
   ]
  },
  {
   "cell_type": "code",
   "execution_count": 26,
   "id": "1766bf32-d3d9-4f45-be49-65a7b9f529cd",
   "metadata": {},
   "outputs": [],
   "source": [
    "import tkinter as tk\n",
    "\n",
    "class Calculator:\n",
    "    def __init__(self, window):\n",
    "        self.window = window\n",
    "        self.window.title(\"Simple Calculator\")\n",
    "        self.window.geometry(\"350x450\")\n",
    "        self.window.resizable(False, False)\n",
    "\n",
    "        self.equation = tk.StringVar()\n",
    "\n",
    "        self.entry = tk.Entry(window, textvariable=self.equation, font=(\"Arial\", 20), bd=10, relief=\"sunken\", justify=\"left\")\n",
    "        self.entry.grid(row=0, column=0, columnspan=4)\n",
    "\n",
    "        buttons = [\n",
    "            ('7', 1, 0), ('8', 1, 1), ('9', 1, 2),\n",
    "            ('4', 2, 0), ('5', 2, 1), ('6', 2, 2),\n",
    "            ('1', 3, 0), ('2', 3, 1), ('3', 3, 2),\n",
    "            ('0', 4, 1), ('+', 1, 3), ('-', 2, 3),\n",
    "            ('*', 3, 3), ('/', 4, 3), ('=', 4, 2),\n",
    "            ('C', 4, 0)\n",
    "        ]\n",
    "\n",
    "        for (text, row, col) in buttons:\n",
    "            button = tk.Button(window, text=text, width=5, height=2, font=(\"Arial\", 18), command=lambda t=text: self.on_button_click(t))\n",
    "            button.grid(row=row, column=col)\n",
    "\n",
    "    def on_button_click(self, char):\n",
    "        if char == \"=\":\n",
    "            try:\n",
    "                result = self.solve(self.equation.get())\n",
    "                self.equation.set(result)\n",
    "            except Exception:\n",
    "                self.equation.set(\"Error\")\n",
    "        elif char == \"C\":\n",
    "            self.equation.set(\"\")\n",
    "        else:\n",
    "            current = self.equation.get()\n",
    "            self.equation.set(current + char)\n",
    "\n",
    "    def solve(self, expression):\n",
    "        try:\n",
    "            return eval(expression) \n",
    "        except Exception:\n",
    "            return \"Error\"\n",
    "\n",
    "root = tk.Tk()\n",
    "app = Calculator(root)\n",
    "root.mainloop()\n"
   ]
  },
  {
   "cell_type": "code",
   "execution_count": null,
   "id": "e580b6ca-959d-4e1f-9158-9177e4015620",
   "metadata": {},
   "outputs": [],
   "source": []
  },
  {
   "cell_type": "code",
   "execution_count": null,
   "id": "4ccebcde-7cd9-4ea8-92cf-5ceadbbfd8bd",
   "metadata": {},
   "outputs": [],
   "source": []
  }
 ],
 "metadata": {
  "kernelspec": {
   "display_name": "Python 3 (ipykernel)",
   "language": "python",
   "name": "python3"
  },
  "language_info": {
   "codemirror_mode": {
    "name": "ipython",
    "version": 3
   },
   "file_extension": ".py",
   "mimetype": "text/x-python",
   "name": "python",
   "nbconvert_exporter": "python",
   "pygments_lexer": "ipython3",
   "version": "3.11.7"
  }
 },
 "nbformat": 4,
 "nbformat_minor": 5
}
